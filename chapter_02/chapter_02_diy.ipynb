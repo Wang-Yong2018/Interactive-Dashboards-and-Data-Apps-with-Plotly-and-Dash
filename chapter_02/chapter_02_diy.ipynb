{
 "cells": [
  {
   "cell_type": "code",
   "execution_count": 1,
   "metadata": {},
   "outputs": [],
   "source": [
    "from jupyter_dash import JupyterDash\n",
    "import dash_html_components as html\n",
    "import dash_bootstrap_components as dbc\n",
    "import dash_core_components as dcc\n",
    "from dash.dependencies import Output, Input\n",
    "\n",
    "app = JupyterDash(__name__,\n",
    "\t\t\t\t\texternal_stylesheets=[dbc.themes.BOOTSTRAP])"
   ]
  },
  {
   "cell_type": "code",
   "execution_count": 7,
   "metadata": {},
   "outputs": [],
   "source": [
    "import pandas as pd\n",
    "from pathlib import Path\n",
    "from functools import lru_cache\n",
    "\n",
    "@lru_cache()\n",
    "def get_poverty_data_fast():\n",
    "\tdata_path = Path('../data/PovStatsData.csv')\n",
    "\t# csv_name = data_path.glob('*poverty.csv')\n",
    "\tdf = pd.read_csv(data_path)\n",
    "\t\n",
    "\treturn df\n",
    "\n",
    "poverty_data = get_poverty_data()"
   ]
  },
  {
   "cell_type": "code",
   "execution_count": 4,
   "metadata": {},
   "outputs": [],
   "source": [
    "@app.callback(Output('report', 'children'),\n",
    "\t\t\tInput('country', 'value'))\n",
    "def display_country_report(country):\n",
    "\tif country is None:\n",
    "\t\treturn ''\n",
    "\tfiltered_df = poverty_data[(poverty_data['Country Name'] == country) &\n",
    "\t\t\t\t\t\t\t(poverty_data['Indicator Name']=='Population, total')]\n",
    "\tpopulation= filtered_df.loc[:, '2010'].values[0]\n",
    "\treturn [html.H3(country), f'The population of {country} in 2010 was {population:,.0f}.']"
   ]
  },
  {
   "cell_type": "code",
   "execution_count": 5,
   "metadata": {},
   "outputs": [],
   "source": [
    "\n",
    "app.layout = html.Div(children=[\n",
    "    html.H1('Poverty And Equity Database',\n",
    "            style={'color': 'blue',\n",
    "                   'fontSize': '40px'}),\n",
    "    html.H2('The World Bank'),\n",
    "    html.P(\"Key Facts:\"),\n",
    "    dbc.Tabs([\n",
    "        dbc.Tab([\n",
    "            html.Ul([\n",
    "                html.Br(),\n",
    "                html.Li(\"Number of Economies: 170\"),\n",
    "                html.Li(\"Temporal Coverage: 1974 - 2019\"),\n",
    "                html.Li('Last Update: March 18, 2020'),\n",
    "                html.Li([\n",
    "                    'Source: ',\n",
    "                    html.A('https://datacatalog.worldbank.org/dataset/poverty-and-Equity',\n",
    "                           href='https://datacatalog.worldbank.org/dataset/poverty-and-equity-database'),\n",
    "                ]),\n",
    "\n",
    "\n",
    "            ]),\n",
    "        ], label='Key Facts'),\n",
    "        dbc.Tab([\n",
    "            html.Ul([\n",
    "                html.Br(),\n",
    "                html.Br(),\n",
    "                html.Li(\n",
    "                    \"Book title: Interfactive Dashboards and Data Apps with plotly Dash\"),\n",
    "                html.Li(['GitHub repo: ',\n",
    "                         html.A('https://github.com/PacktPublishing/Interactive-Dashboard',\n",
    "                                href='https://github.com/PackPublishing/Interactive-Dashboarding'),\n",
    "                         ])\n",
    "            ])\n",
    "        ], label='Project Info'),\n",
    "        dbc.Tab([\n",
    "            html.Ul([\n",
    "                html.Div([dcc.Dropdown(id='country',\n",
    "                options=[{'label': country, 'value': country}\n",
    "                    for country in poverty_data['Country Name'].unique()]\n",
    "                         ),\n",
    "                html.Div(id='report')\n",
    "                ])\n",
    "            ]),\n",
    "            ], label='Poverty_data'),\n",
    "])\n",
    "])"
   ]
  },
  {
   "cell_type": "code",
   "execution_count": 6,
   "metadata": {},
   "outputs": [
    {
     "name": "stdout",
     "output_type": "stream",
     "text": [
      "Dash app running on http://127.0.0.1:8050/\n"
     ]
    }
   ],
   "source": [
    "app.run_server(mode='external', height=600, width='80%')"
   ]
  },
  {
   "cell_type": "code",
   "execution_count": null,
   "metadata": {},
   "outputs": [],
   "source": []
  },
  {
   "cell_type": "code",
   "execution_count": null,
   "metadata": {},
   "outputs": [],
   "source": []
  },
  {
   "cell_type": "code",
   "execution_count": null,
   "metadata": {},
   "outputs": [],
   "source": []
  }
 ],
 "metadata": {
  "interpreter": {
   "hash": "949777d72b0d2535278d3dc13498b2535136f6dfe0678499012e853ee9abcab1"
  },
  "kernelspec": {
   "display_name": "Python 3.10.1 64-bit",
   "language": "python",
   "name": "python3"
  },
  "language_info": {
   "codemirror_mode": {
    "name": "ipython",
    "version": 3
   },
   "file_extension": ".py",
   "mimetype": "text/x-python",
   "name": "python",
   "nbconvert_exporter": "python",
   "pygments_lexer": "ipython3",
   "version": "3.10.1"
  },
  "orig_nbformat": 4
 },
 "nbformat": 4,
 "nbformat_minor": 2
}
